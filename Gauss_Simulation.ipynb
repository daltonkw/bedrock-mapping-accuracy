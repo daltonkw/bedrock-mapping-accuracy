{
 "cells": [
  {
   "attachments": {},
   "cell_type": "markdown",
   "metadata": {},
   "source": [
    "# Two Dimensional Sequential Gaussian Simulation"
   ]
  },
  {
   "attachments": {},
   "cell_type": "markdown",
   "metadata": {},
   "source": [
    "Sequential Gaussian simulation is a technique to \"fill in\" a grid representing the area of interest using a _smattering_ of observations, and a model of the observed trend.\n",
    "\n",
    "The basic workflow:\n",
    "\n",
    "1.  Modeling the measured variation using a semivariogram\n",
    "2.  Using the semivariogram to perform interpolation by kriging\n",
    "3.  Running simulations to estimate the spatial distribution of the variable(s) of interest"
   ]
  },
  {
   "cell_type": "code",
   "execution_count": 26,
   "metadata": {},
   "outputs": [],
   "source": [
    "import os\n",
    "from pathlib import Path\n",
    "import time\n",
    "import random\n",
    "\n",
    "import numpy as np\n",
    "import pandas as pd\n",
    "import scipy.stats\n",
    "import scipy.optimize\n",
    "import scipy.interpolate\n",
    "from scipy.spatial.distance import pdist, squareform\n",
    "\n",
    "import matplotlib.pyplot as plt\n"
   ]
  },
  {
   "attachments": {},
   "cell_type": "markdown",
   "metadata": {},
   "source": [
    "## Sequential Gaussian Simulation (SGS)\n",
    "\n",
    "1.  Define a grid\n",
    "2.  Place z-transformed initial data into the nearest grid cells\n",
    "\n",
    "_expects normally distributed data, if not use a z-score transformation before SGS and a back-transformation afterwards_\n",
    "\n",
    "3.  Visit the rest of the grid cells _at random_ and perform kriging using all of the available data\n",
    "4.  Back-transform the data to retrieve the approximate distribution"
   ]
  },
  {
   "attachments": {},
   "cell_type": "markdown",
   "metadata": {},
   "source": [
    "## Data"
   ]
  },
  {
   "cell_type": "code",
   "execution_count": 3,
   "metadata": {},
   "outputs": [],
   "source": [
    "cluster_url = 'http://elearning.algonquincollege.com/coursemat/viljoed/gis8746/concepts/gslib/data/cluster.dat'"
   ]
  },
  {
   "cell_type": "code",
   "execution_count": 4,
   "metadata": {},
   "outputs": [
    {
     "data": {
      "text/html": [
       "<div>\n",
       "<style scoped>\n",
       "    .dataframe tbody tr th:only-of-type {\n",
       "        vertical-align: middle;\n",
       "    }\n",
       "\n",
       "    .dataframe tbody tr th {\n",
       "        vertical-align: top;\n",
       "    }\n",
       "\n",
       "    .dataframe thead th {\n",
       "        text-align: right;\n",
       "    }\n",
       "</style>\n",
       "<table border=\"1\" class=\"dataframe\">\n",
       "  <thead>\n",
       "    <tr style=\"text-align: right;\">\n",
       "      <th></th>\n",
       "      <th>Xlocation</th>\n",
       "      <th>Ylocation</th>\n",
       "      <th>Primary</th>\n",
       "      <th>Secondary</th>\n",
       "      <th>Declustering Weight</th>\n",
       "    </tr>\n",
       "  </thead>\n",
       "  <tbody>\n",
       "    <tr>\n",
       "      <th>0</th>\n",
       "      <td>39.5</td>\n",
       "      <td>18.5</td>\n",
       "      <td>0.06</td>\n",
       "      <td>0.22</td>\n",
       "      <td>1.619</td>\n",
       "    </tr>\n",
       "    <tr>\n",
       "      <th>1</th>\n",
       "      <td>5.5</td>\n",
       "      <td>1.5</td>\n",
       "      <td>0.06</td>\n",
       "      <td>0.27</td>\n",
       "      <td>1.619</td>\n",
       "    </tr>\n",
       "    <tr>\n",
       "      <th>2</th>\n",
       "      <td>38.5</td>\n",
       "      <td>5.5</td>\n",
       "      <td>0.08</td>\n",
       "      <td>0.40</td>\n",
       "      <td>1.416</td>\n",
       "    </tr>\n",
       "    <tr>\n",
       "      <th>3</th>\n",
       "      <td>20.5</td>\n",
       "      <td>1.5</td>\n",
       "      <td>0.09</td>\n",
       "      <td>0.39</td>\n",
       "      <td>1.821</td>\n",
       "    </tr>\n",
       "    <tr>\n",
       "      <th>4</th>\n",
       "      <td>27.5</td>\n",
       "      <td>14.5</td>\n",
       "      <td>0.09</td>\n",
       "      <td>0.24</td>\n",
       "      <td>1.349</td>\n",
       "    </tr>\n",
       "  </tbody>\n",
       "</table>\n",
       "</div>"
      ],
      "text/plain": [
       "   Xlocation  Ylocation  Primary  Secondary  Declustering Weight\n",
       "0       39.5       18.5     0.06       0.22                1.619\n",
       "1        5.5        1.5     0.06       0.27                1.619\n",
       "2       38.5        5.5     0.08       0.40                1.416\n",
       "3       20.5        1.5     0.09       0.39                1.821\n",
       "4       27.5       14.5     0.09       0.24                1.349"
      ]
     },
     "execution_count": 4,
     "metadata": {},
     "output_type": "execute_result"
    }
   ],
   "source": [
    "clstr = pd.read_csv(cluster_url, header=None, delim_whitespace=True, skiprows=7, names=['Xlocation', 'Ylocation', 'Primary', 'Secondary', 'Declustering Weight'])\n",
    "clstr.head()"
   ]
  },
  {
   "attachments": {},
   "cell_type": "markdown",
   "metadata": {},
   "source": [
    "## Gridding"
   ]
  },
  {
   "cell_type": "code",
   "execution_count": 5,
   "metadata": {},
   "outputs": [],
   "source": [
    "# 30 step between 0 and 50\n",
    "nx, xsteps = 50, 30\n",
    "ny, ysteps = 50, 30\n",
    "xrng = np.linspace(0, nx, xsteps)\n",
    "yrng = np.linspace(0, ny, ysteps)"
   ]
  },
  {
   "attachments": {},
   "cell_type": "markdown",
   "metadata": {},
   "source": [
    "## Randomization\n",
    "\n",
    "Create a random path through the spatial domain.\n",
    "\n",
    "* Create an index from flattened matrix\n",
    "* Shuffle that index (randomization)\n",
    "* Walk through the 2d grid..."
   ]
  },
  {
   "cell_type": "code",
   "execution_count": 6,
   "metadata": {},
   "outputs": [],
   "source": [
    "N = xsteps * ysteps\n",
    "idx = np.arange(N)\n",
    "\n",
    "random.shuffle(idx)\n",
    "\n",
    "path = list()\n",
    "t = 0\n",
    "\n",
    "for i in range(xsteps):\n",
    "    for j in range(ysteps):\n",
    "        path.append( [idx[t], (i, j), (xrng[i], yrng[j])] )\n",
    "        t += 1\n",
    "\n",
    "path.sort()"
   ]
  },
  {
   "cell_type": "code",
   "execution_count": 7,
   "metadata": {},
   "outputs": [
    {
     "data": {
      "text/plain": [
       "[[0, (9, 21), (15.517241379310343, 36.206896551724135)],\n",
       " [1, (0, 26), (0.0, 44.82758620689655)],\n",
       " [2, (14, 13), (24.137931034482758, 22.413793103448274)],\n",
       " [3, (28, 0), (48.275862068965516, 0.0)],\n",
       " [4, (28, 2), (48.275862068965516, 3.4482758620689653)],\n",
       " [5, (13, 28), (22.413793103448274, 48.275862068965516)],\n",
       " [6, (10, 20), (17.241379310344826, 34.48275862068965)],\n",
       " [7, (21, 27), (36.206896551724135, 46.55172413793103)],\n",
       " [8, (26, 17), (44.82758620689655, 29.310344827586206)],\n",
       " [9, (14, 10), (24.137931034482758, 17.241379310344826)]]"
      ]
     },
     "execution_count": 7,
     "metadata": {},
     "output_type": "execute_result"
    }
   ],
   "source": [
    "path[:10]"
   ]
  },
  {
   "attachments": {},
   "cell_type": "markdown",
   "metadata": {},
   "source": [
    "## Simulation\n",
    "\n",
    "The `sgs()` function visits the cells in the grid at random, calculates a kriging estimate, adds that to the original data & etc."
   ]
  },
  {
   "cell_type": "code",
   "execution_count": 8,
   "metadata": {},
   "outputs": [],
   "source": [
    "locations = np.array(clstr[['Xlocation', 'Ylocation']])\n",
    "variable = np.array(clstr['Primary'])"
   ]
  },
  {
   "cell_type": "code",
   "execution_count": 9,
   "metadata": {},
   "outputs": [],
   "source": [
    "# transform data to normal dist\n",
    "def to_norm( data, bins=12 ):\n",
    "    mu = np.mean( data )\n",
    "    sd = np.std( data )\n",
    "    z = ( data - mu ) / sd\n",
    "    f, inv = cdf( z, bins=bins )\n",
    "    z = scipy.stats.norm(0,1).ppf( f[:,1] )\n",
    "    z = np.where( z==np.inf, np.nan, z )\n",
    "    z = np.where( np.isnan( z ), np.nanmax( z ), z )\n",
    "    param = ( mu, sd )\n",
    "    return z, inv, param, mu, sd\n",
    " \n",
    "# transform data from normal dist back\n",
    "def from_norm( data, inv, param, mu, sd ):\n",
    "    h = fit( inv )\n",
    "    f = scipy.stats.norm(0,1).cdf( data )\n",
    "    z = [ h(i)*sd + mu for i in f ]\n",
    "    return z\n",
    "\n",
    "def fit( d ):\n",
    "    x, y = d[:,0], d[:,1]\n",
    "    def f(t):\n",
    "        if t <= x.min():\n",
    "            return y[ np.argmin(x) ]\n",
    "        elif t >= x.max():\n",
    "            return y[ np.argmax(x) ]\n",
    "        else:\n",
    "            intr = scipy.interpolate.interp1d( x, y )\n",
    "            return intr(t)\n",
    "    return f\n",
    "\n",
    "def cdf( d, bins=12 ):\n",
    "    N = len( d )\n",
    "    counts, intervals = np.histogram( d, bins=bins )\n",
    "    h = np.diff( intervals ) / 2.0\n",
    "    f, finv = np.zeros((N,2)), np.zeros((N,2))\n",
    "    idx, k, T = 0, 0, float( np.sum( counts ) )\n",
    "    for count in counts:\n",
    "        for i in range( count ):\n",
    "            x = intervals[idx]+h[0]\n",
    "            y = np.cumsum( counts[:idx+1] )[-1] / T\n",
    "            f[k,:] = x, y \n",
    "            finv[k,:] = y, x\n",
    "            k += 1\n",
    "        idx += 1\n",
    "    return f, finv"
   ]
  },
  {
   "cell_type": "code",
   "execution_count": 10,
   "metadata": {},
   "outputs": [],
   "source": [
    "norm, inv, param, mu, sd = to_norm(variable, bins=1000)"
   ]
  },
  {
   "cell_type": "code",
   "execution_count": 11,
   "metadata": {},
   "outputs": [],
   "source": [
    "data = np.vstack((locations.T,norm)).T"
   ]
  },
  {
   "cell_type": "code",
   "execution_count": 13,
   "metadata": {},
   "outputs": [],
   "source": [
    "def SVh( P, h, bw ):\n",
    "    '''\n",
    "    Experimental semivariogram for a single lag\n",
    "    '''\n",
    "    pd = squareform( pdist( P[:,:2] ) )\n",
    "    N = pd.shape[0]\n",
    "    Z = list()\n",
    "    for i in range(N):\n",
    "        for j in range(i+1,N):\n",
    "            if( pd[i,j] >= h-bw )and( pd[i,j] <= h+bw ):\n",
    "                Z.append( ( P[i,2] - P[j,2] )**2.0 )\n",
    "    return np.sum( Z ) / ( 2.0 * len( Z ) )\n",
    " \n",
    "def SV( P, hs, bw ):\n",
    "    '''\n",
    "    Experimental variogram for a collection of lags\n",
    "    '''\n",
    "    sv = list()\n",
    "    for h in hs:\n",
    "        sv.append( SVh( P, h, bw ) )\n",
    "    sv = [ [ hs[i], sv[i] ] for i in range( len( hs ) ) if sv[i] > 0 ]\n",
    "    return np.array( sv ).T\n",
    " \n",
    "def C( P, h, bw ):\n",
    "    '''\n",
    "    Calculate the sill\n",
    "    '''\n",
    "    c0 = np.var( P[:,2] )\n",
    "    if h == 0:\n",
    "        return c0\n",
    "    return c0 - SVh( P, h, bw )\n",
    "\n",
    "def spherical( h, a, C0 ):\n",
    "    '''\n",
    "    Spherical model of the semivariogram\n",
    "    '''\n",
    "    # if h is a single digit\n",
    "    if type(h) == np.float64:\n",
    "        # calculate the spherical function\n",
    "        if h <= a:\n",
    "            return C0*( 1.5*h/a - 0.5*(h/a)**3.0 )\n",
    "        else:\n",
    "            return C0\n",
    "    # if h is an iterable\n",
    "    else:\n",
    "        # calcualte the spherical function for all elements\n",
    "        a = np.ones( h.size ) * a\n",
    "        C0 = np.ones( h.size ) * C0\n",
    "        return map( spherical, h, a, C0 )\n",
    "\n",
    "def opt( fct, x, y, C0, parameterRange=None, meshSize=1000 ):\n",
    "    if parameterRange == None:\n",
    "        parameterRange = [ x[1], x[-1] ]\n",
    "    mse = np.zeros( meshSize )\n",
    "    a = np.linspace( parameterRange[0], parameterRange[1], meshSize )\n",
    "    for i in range( meshSize ):\n",
    "        mse[i] = np.mean((y - [j for j in fct( x, a[i], C0 )])**2.0)\n",
    "    return a[ mse.argmin() ]\n",
    "    \n",
    "def cvmodel( P, model, hs, bw ):\n",
    "    '''\n",
    "    Input:  (P)      ndarray, data\n",
    "            (model)  modeling function\n",
    "                      - spherical\n",
    "                      - exponential\n",
    "                      - gaussian\n",
    "            (hs)     distances\n",
    "            (bw)     bandwidth\n",
    "    Output: (covfct) function modeling the covariance\n",
    "    '''\n",
    "    # calculate the semivariogram\n",
    "    sv = SV( P, hs, bw )\n",
    "    # calculate the sill\n",
    "    C0 = C( P, hs[0], bw )\n",
    "    # calculate the optimal parameters\n",
    "    param = opt( model, sv[0], sv[1], C0 )\n",
    "    # return a covariance function\n",
    "    covfct = lambda h, a=param: C0 - [j for j in model(h, a, C0)]\n",
    "    return covfct\n",
    "    \n",
    "def krige( P, model, hs, bw, u, N ):\n",
    "    '''\n",
    "    Input  (P)     ndarray, data\n",
    "           (model) modeling function\n",
    "                    - spherical\n",
    "                    - exponential\n",
    "                    - gaussian\n",
    "           (hs)    kriging distances\n",
    "           (bw)    kriging bandwidth\n",
    "           (u)     unsampled point\n",
    "           (N)     number of neighboring\n",
    "                   points to consider\n",
    "    '''\n",
    " \n",
    "    # covariance function\n",
    "    covfct = cvmodel( P, model, hs, bw )\n",
    "    # mean of the variable\n",
    "    mu = np.mean( P[:,2] )\n",
    " \n",
    "    # distance between u and each data point in P\n",
    "    d = np.sqrt( ( P[:,0]-u[0] )**2.0 + ( P[:,1]-u[1] )**2.0 )\n",
    "    # add these distances to P\n",
    "    P = np.vstack(( P.T, d )).T\n",
    "    # sort P by these distances\n",
    "    # take the first N of them\n",
    "    P = P[d.argsort()[:N]]\n",
    " \n",
    "    # apply the covariance model to the distances\n",
    "    k = covfct( P[:,3] )\n",
    "    # cast as a matrix\n",
    "    k = np.matrix( k ).T\n",
    " \n",
    "    # form a matrix of distances between existing data points\n",
    "    K = squareform( pdist( P[:,:2] ) )\n",
    "    # apply the covariance model to these distances\n",
    "    K = covfct( K.ravel() )\n",
    "    # re-cast as a NumPy array -- thanks M.L.\n",
    "    K = np.array( K )\n",
    "    # reshape into an array\n",
    "    K = K.reshape(N,N)\n",
    "    # cast as a matrix\n",
    "    K = np.matrix( K )\n",
    " \n",
    "    # calculate the kriging weights\n",
    "    weights = np.linalg.inv( K ) * k\n",
    "    weights = np.array( weights )\n",
    " \n",
    "    # calculate the residuals\n",
    "    residuals = P[:,2] - mu\n",
    " \n",
    "    # calculate the estimation\n",
    "    estimation = np.dot( weights.T, residuals ) + mu\n",
    " \n",
    "    return float( estimation )"
   ]
  },
  {
   "cell_type": "code",
   "execution_count": 14,
   "metadata": {},
   "outputs": [],
   "source": [
    "def sgs( data, bw, path, xsteps, ysteps ):\n",
    "    '''\n",
    "    Input:  (data)   <N,3> NumPy array of data\n",
    "            (bw)     bandwidth of the semivariogram\n",
    "            (path)   randomized path through region of interest\n",
    "            (xsteps) number of cells in the x dimension\n",
    "            (ysteps) number of cells in the y dimension\n",
    "    Output: (M)      <xsteps,ysteps> NumPy array of data\n",
    "                     representing the simulated distribution\n",
    "                     of the variable of interest \n",
    "    '''\n",
    "    M = np.zeros((xsteps,ysteps))\n",
    "    # generate the lags for the semivariogram\n",
    "    hs = np.arange(0,50,bw)\n",
    "    # for each cell in the grid..\n",
    "    for step in path :\n",
    "        # grab the index, the cell address, and the physical location\n",
    "        idx, cell, loc = step\n",
    "        # perform the kriging\n",
    "        kv = krige( data, spherical, hs, bw, loc, 4 )\n",
    "        # add the kriging estimate to the output\n",
    "        M[ cell[0], cell[1] ] = kv\n",
    "        # add the kriging estimate to a spatial location\n",
    "        newdata = [ loc[0], loc[1], kv ]\n",
    "        # add this new point to the data used for kriging\n",
    "        data = np.vstack(( data, newdata ))\n",
    "    return M"
   ]
  },
  {
   "cell_type": "code",
   "execution_count": 78,
   "metadata": {},
   "outputs": [
    {
     "data": {
      "text/plain": [
       "(24.137931034482758, 31.034482758620687)"
      ]
     },
     "execution_count": 78,
     "metadata": {},
     "output_type": "execute_result"
    }
   ],
   "source": [
    "_, __, loct = path[0]\n",
    "loct"
   ]
  },
  {
   "cell_type": "code",
   "execution_count": 128,
   "metadata": {},
   "outputs": [
    {
     "data": {
      "text/plain": [
       "-0.22644330767933174"
      ]
     },
     "execution_count": 128,
     "metadata": {},
     "output_type": "execute_result"
    }
   ],
   "source": [
    "krige(data, spherical, hs=np.arange(0,50,5), bw=5, u=loct, N=4)"
   ]
  },
  {
   "cell_type": "code",
   "execution_count": 127,
   "metadata": {},
   "outputs": [
    {
     "data": {
      "text/plain": [
       "<function __main__.cvmodel.<locals>.<lambda>(h, a=8.683683683683684)>"
      ]
     },
     "execution_count": 127,
     "metadata": {},
     "output_type": "execute_result"
    }
   ],
   "source": [
    "cvmodel(data, spherical, hs=np.arange(0,50,5), bw=5)"
   ]
  },
  {
   "cell_type": "code",
   "execution_count": 90,
   "metadata": {},
   "outputs": [],
   "source": [
    "x1 = SV(data, hs=np.arange(0,50,5), bw=5)[0]\n",
    "x2 = SV(data, hs=np.arange(0,50,5), bw=5)[1]\n",
    "x3 = C( data, np.arange(0,50,5)[0], bw=5 )"
   ]
  },
  {
   "cell_type": "code",
   "execution_count": 116,
   "metadata": {},
   "outputs": [],
   "source": [
    "pRnge = [ x1[1], x1[-1] ]\n",
    "mse = np.zeros(1000)\n",
    "a = np.linspace( pRnge[0], pRnge[1], 1000 )\n",
    "for i in range(10):\n",
    "    mse[i] = np.mean((x2 - [j for j in spherical(x1, a[i], x3)])**2.0)\n"
   ]
  },
  {
   "cell_type": "code",
   "execution_count": 126,
   "metadata": {},
   "outputs": [
    {
     "data": {
      "text/plain": [
       "8.683683683683684"
      ]
     },
     "execution_count": 126,
     "metadata": {},
     "output_type": "execute_result"
    }
   ],
   "source": [
    "opt(fct=spherical, x=x1, y=x2, C0=x3, parameterRange=None, meshSize=1000)"
   ]
  },
  {
   "cell_type": "code",
   "execution_count": 15,
   "metadata": {},
   "outputs": [],
   "source": [
    "t0 = time.time()\n",
    "M = sgs(data, 5, path, xsteps, ysteps)\n",
    "t1 = time.time()\n",
    "#print (t1-t0)/60.0"
   ]
  },
  {
   "cell_type": "code",
   "execution_count": 20,
   "metadata": {},
   "outputs": [
    {
     "data": {
      "text/plain": [
       "(30, 30)"
      ]
     },
     "execution_count": 20,
     "metadata": {},
     "output_type": "execute_result"
    }
   ],
   "source": [
    "M.shape"
   ]
  },
  {
   "cell_type": "code",
   "execution_count": 23,
   "metadata": {},
   "outputs": [
    {
     "data": {
      "text/plain": [
       "(30, 30)"
      ]
     },
     "execution_count": 23,
     "metadata": {},
     "output_type": "execute_result"
    }
   ],
   "source": [
    "M[:,::-1].T.shape"
   ]
  },
  {
   "cell_type": "code",
   "execution_count": 28,
   "metadata": {},
   "outputs": [
    {
     "data": {
      "image/png": "[encoded data removed]",
      "text/plain": [
       "<Figure size 1000x1000 with 1 Axes>"
      ]
     },
     "metadata": {},
     "output_type": "display_data"
    }
   ],
   "source": [
    "fig, ax = plt.subplots(1, 1, figsize=(10,10))\n",
    "\n",
    "ax.matshow(M[:,::-1])\n",
    "plt.show()"
   ]
  },
  {
   "cell_type": "code",
   "execution_count": 33,
   "metadata": {},
   "outputs": [
    {
     "data": {
      "text/plain": [
       "(30, 30)"
      ]
     },
     "execution_count": 33,
     "metadata": {},
     "output_type": "execute_result"
    }
   ],
   "source": [
    "z = from_norm( M.ravel(), inv, param, mu, sd )\n",
    "z = np.reshape(z, (xsteps, ysteps))\n",
    "z.shape"
   ]
  },
  {
   "cell_type": "code",
   "execution_count": 34,
   "metadata": {},
   "outputs": [
    {
     "data": {
      "image/png": "[encoded data removed]",
      "text/plain": [
       "<Figure size 1000x1000 with 1 Axes>"
      ]
     },
     "metadata": {},
     "output_type": "display_data"
    }
   ],
   "source": [
    "fig, ax = plt.subplots(1, 1, figsize=(10,10))\n",
    "\n",
    "ax.matshow(z[:,::-1].T)\n",
    "plt.show()"
   ]
  },
  {
   "attachments": {},
   "cell_type": "markdown",
   "metadata": {},
   "source": [
    "# Simple Kriging"
   ]
  },
  {
   "cell_type": "code",
   "execution_count": 35,
   "metadata": {},
   "outputs": [],
   "source": [
    "zonea_url = 'https://github.com/cjohnson318/geostatsmodels/blob/master/data/ZoneA.dat?raw=true'"
   ]
  },
  {
   "cell_type": "code",
   "execution_count": 36,
   "metadata": {},
   "outputs": [
    {
     "data": {
      "text/html": [
       "<div>\n",
       "<style scoped>\n",
       "    .dataframe tbody tr th:only-of-type {\n",
       "        vertical-align: middle;\n",
       "    }\n",
       "\n",
       "    .dataframe tbody tr th {\n",
       "        vertical-align: top;\n",
       "    }\n",
       "\n",
       "    .dataframe thead th {\n",
       "        text-align: right;\n",
       "    }\n",
       "</style>\n",
       "<table border=\"1\" class=\"dataframe\">\n",
       "  <thead>\n",
       "    <tr style=\"text-align: right;\">\n",
       "      <th></th>\n",
       "      <th>X</th>\n",
       "      <th>Y</th>\n",
       "      <th>Thick</th>\n",
       "      <th>Por</th>\n",
       "      <th>Perm</th>\n",
       "      <th>LogPerm</th>\n",
       "      <th>LogPermPrd</th>\n",
       "      <th>LogPermRsd</th>\n",
       "    </tr>\n",
       "  </thead>\n",
       "  <tbody>\n",
       "    <tr>\n",
       "      <th>0</th>\n",
       "      <td>12100</td>\n",
       "      <td>8300</td>\n",
       "      <td>37.1531</td>\n",
       "      <td>14.6515</td>\n",
       "      <td>2.8547</td>\n",
       "      <td>0.4556</td>\n",
       "      <td>0.1357</td>\n",
       "      <td>0.3198</td>\n",
       "    </tr>\n",
       "    <tr>\n",
       "      <th>1</th>\n",
       "      <td>5300</td>\n",
       "      <td>8700</td>\n",
       "      <td>31.4993</td>\n",
       "      <td>14.5093</td>\n",
       "      <td>-999.9999</td>\n",
       "      <td>-999.9999</td>\n",
       "      <td>-999.9999</td>\n",
       "      <td>-999.9999</td>\n",
       "    </tr>\n",
       "    <tr>\n",
       "      <th>2</th>\n",
       "      <td>3500</td>\n",
       "      <td>13900</td>\n",
       "      <td>36.9185</td>\n",
       "      <td>14.0639</td>\n",
       "      <td>-999.9999</td>\n",
       "      <td>-999.9999</td>\n",
       "      <td>-999.9999</td>\n",
       "      <td>-999.9999</td>\n",
       "    </tr>\n",
       "    <tr>\n",
       "      <th>3</th>\n",
       "      <td>5100</td>\n",
       "      <td>1900</td>\n",
       "      <td>24.0156</td>\n",
       "      <td>15.1084</td>\n",
       "      <td>1.1407</td>\n",
       "      <td>0.0572</td>\n",
       "      <td>0.2268</td>\n",
       "      <td>-0.1696</td>\n",
       "    </tr>\n",
       "    <tr>\n",
       "      <th>4</th>\n",
       "      <td>9900</td>\n",
       "      <td>13700</td>\n",
       "      <td>35.0411</td>\n",
       "      <td>13.9190</td>\n",
       "      <td>-999.9999</td>\n",
       "      <td>-999.9999</td>\n",
       "      <td>-999.9999</td>\n",
       "      <td>-999.9999</td>\n",
       "    </tr>\n",
       "    <tr>\n",
       "      <th>...</th>\n",
       "      <td>...</td>\n",
       "      <td>...</td>\n",
       "      <td>...</td>\n",
       "      <td>...</td>\n",
       "      <td>...</td>\n",
       "      <td>...</td>\n",
       "      <td>...</td>\n",
       "      <td>...</td>\n",
       "    </tr>\n",
       "    <tr>\n",
       "      <th>80</th>\n",
       "      <td>3500</td>\n",
       "      <td>7500</td>\n",
       "      <td>33.2246</td>\n",
       "      <td>15.1486</td>\n",
       "      <td>1.4744</td>\n",
       "      <td>0.1686</td>\n",
       "      <td>0.2348</td>\n",
       "      <td>-0.0662</td>\n",
       "    </tr>\n",
       "    <tr>\n",
       "      <th>81</th>\n",
       "      <td>3700</td>\n",
       "      <td>6900</td>\n",
       "      <td>30.6871</td>\n",
       "      <td>13.9584</td>\n",
       "      <td>-999.9999</td>\n",
       "      <td>-999.9999</td>\n",
       "      <td>-999.9999</td>\n",
       "      <td>-999.9999</td>\n",
       "    </tr>\n",
       "    <tr>\n",
       "      <th>82</th>\n",
       "      <td>14500</td>\n",
       "      <td>13300</td>\n",
       "      <td>39.6297</td>\n",
       "      <td>14.7381</td>\n",
       "      <td>2.9050</td>\n",
       "      <td>0.4631</td>\n",
       "      <td>0.1530</td>\n",
       "      <td>0.3102</td>\n",
       "    </tr>\n",
       "    <tr>\n",
       "      <th>83</th>\n",
       "      <td>4900</td>\n",
       "      <td>9100</td>\n",
       "      <td>31.2961</td>\n",
       "      <td>15.0689</td>\n",
       "      <td>-999.9999</td>\n",
       "      <td>-999.9999</td>\n",
       "      <td>-999.9999</td>\n",
       "      <td>-999.9999</td>\n",
       "    </tr>\n",
       "    <tr>\n",
       "      <th>84</th>\n",
       "      <td>9700</td>\n",
       "      <td>5700</td>\n",
       "      <td>32.8684</td>\n",
       "      <td>15.8042</td>\n",
       "      <td>1.5436</td>\n",
       "      <td>0.1885</td>\n",
       "      <td>0.3654</td>\n",
       "      <td>-0.1769</td>\n",
       "    </tr>\n",
       "  </tbody>\n",
       "</table>\n",
       "<p>85 rows × 8 columns</p>\n",
       "</div>"
      ],
      "text/plain": [
       "        X      Y    Thick      Por      Perm   LogPerm  LogPermPrd  LogPermRsd\n",
       "0   12100   8300  37.1531  14.6515    2.8547    0.4556      0.1357      0.3198\n",
       "1    5300   8700  31.4993  14.5093 -999.9999 -999.9999   -999.9999   -999.9999\n",
       "2    3500  13900  36.9185  14.0639 -999.9999 -999.9999   -999.9999   -999.9999\n",
       "3    5100   1900  24.0156  15.1084    1.1407    0.0572      0.2268     -0.1696\n",
       "4    9900  13700  35.0411  13.9190 -999.9999 -999.9999   -999.9999   -999.9999\n",
       "..    ...    ...      ...      ...       ...       ...         ...         ...\n",
       "80   3500   7500  33.2246  15.1486    1.4744    0.1686      0.2348     -0.0662\n",
       "81   3700   6900  30.6871  13.9584 -999.9999 -999.9999   -999.9999   -999.9999\n",
       "82  14500  13300  39.6297  14.7381    2.9050    0.4631      0.1530      0.3102\n",
       "83   4900   9100  31.2961  15.0689 -999.9999 -999.9999   -999.9999   -999.9999\n",
       "84   9700   5700  32.8684  15.8042    1.5436    0.1885      0.3654     -0.1769\n",
       "\n",
       "[85 rows x 8 columns]"
      ]
     },
     "execution_count": 36,
     "metadata": {},
     "output_type": "execute_result"
    }
   ],
   "source": [
    "zonea = pd.read_csv(zonea_url, header=None, delim_whitespace=True, skiprows=10, names=['X', 'Y', 'Thick', 'Por', 'Perm', 'LogPerm', 'LogPermPrd', 'LogPermRsd'])\n",
    "zonea"
   ]
  },
  {
   "cell_type": "code",
   "execution_count": 45,
   "metadata": {},
   "outputs": [
    {
     "data": {
      "image/png": "[encoded data removed]",
      "text/plain": [
       "<Figure size 750x750 with 1 Axes>"
      ]
     },
     "metadata": {},
     "output_type": "display_data"
    }
   ],
   "source": [
    "fig, ax = plt.subplots(1, 1, figsize=(7.5, 7.5))\n",
    "ax.scatter(zonea.X, zonea.Y, c=zonea.Por, cmap='Blues')\n",
    "ax.set_aspect(1)\n",
    "ax.set_xlim(-1500,22000)\n",
    "ax.set_ylim(-1500,17500)\n",
    "ax.set_xlabel('Easting [m]')\n",
    "ax.set_ylabel('Northing [m]')\n",
    "ax.set_title('Porosity %')\n",
    "\n",
    "plt.show()"
   ]
  },
  {
   "attachments": {},
   "cell_type": "markdown",
   "metadata": {},
   "source": [
    "Semivariogram allows us to model the similarity points in a field as a function of distance.\n",
    "\n",
    "$$\n",
    "\\hat{\\gamma}(h)=\\frac{1}{2N(h)} \\sum_{N(h)} \\left(z_{i}-z{j}\\right)^{2}\n",
    "$$\n",
    "\n",
    "$h$ is the distance specified and $z_{i}$ and $z_{j}$ are two points separated spatially by $h$."
   ]
  }
 ],
 "metadata": {
  "kernelspec": {
   "display_name": "Python 3",
   "language": "python",
   "name": "python3"
  },
  "language_info": {
   "codemirror_mode": {
    "name": "ipython",
    "version": 3
   },
   "file_extension": ".py",
   "mimetype": "text/x-python",
   "name": "python",
   "nbconvert_exporter": "python",
   "pygments_lexer": "ipython3",
   "version": "3.10.8"
  },
  "orig_nbformat": 4
 },
 "nbformat": 4,
 "nbformat_minor": 2
}
